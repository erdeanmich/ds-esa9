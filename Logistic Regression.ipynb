{
 "cells": [
  {
   "cell_type": "markdown",
   "id": "5c8ec715",
   "metadata": {},
   "source": [
    "# Logistic Regression\n",
    "\n",
    "You are walking in the forrest and see an iris and measure:\n",
    "\n",
    "4.8,2.5,5.3,2.4\n",
    "\n",
    "Is this an Iris Virginica or not?\n",
    "\n",
    "The absolute minimum is to derive 4 probabilites for each feature. But it would be best to evaluate all 4 values in a (combined) equation to get one single probability for Iris Virginica! \n",
    "\n"
   ]
  },
  {
   "cell_type": "code",
   "execution_count": 48,
   "id": "de57055c",
   "metadata": {},
   "outputs": [
    {
     "data": {
      "text/plain": [
       "['data',\n",
       " 'target',\n",
       " 'frame',\n",
       " 'target_names',\n",
       " 'DESCR',\n",
       " 'feature_names',\n",
       " 'filename']"
      ]
     },
     "execution_count": 48,
     "metadata": {},
     "output_type": "execute_result"
    }
   ],
   "source": [
    "from sklearn import datasets\n",
    "import numpy as np \n",
    "from sklearn.linear_model import LogisticRegression\n",
    "import matplotlib.pyplot as plt\n",
    "\n",
    "iris = datasets.load_iris()\n",
    "list(iris.keys())"
   ]
  },
  {
   "cell_type": "code",
   "execution_count": 49,
   "id": "53506a0d",
   "metadata": {},
   "outputs": [],
   "source": [
    "x = iris[\"data\"]\n",
    "y = (iris[\"target\"] == 2).astype(int) # 1 if Virginica else 0\n"
   ]
  },
  {
   "cell_type": "markdown",
   "id": "ed402b7c",
   "metadata": {},
   "source": [
    "Have a look on the dataset and the distribution of the features"
   ]
  },
  {
   "cell_type": "code",
   "execution_count": 50,
   "id": "b54a6f74",
   "metadata": {
    "scrolled": true
   },
   "outputs": [
    {
     "data": {
      "image/png": "[encoded data removed]",
      "text/plain": [
       "<Figure size 432x288 with 1 Axes>"
      ]
     },
     "metadata": {
      "needs_background": "light"
     },
     "output_type": "display_data"
    }
   ],
   "source": [
    "plt.xlabel(\"Length or Width\")\n",
    "plt.ylabel(\"Is Virginica\")\n",
    "\n",
    "feature_dict = {\n",
    "    0: (\"sepal length\", \"blue\"),\n",
    "    1: (\"sepal width\" , \"red\"),\n",
    "    2: (\"petal length\", \"yellow\"),\n",
    "    3: (\"petal width\", \"green\")\n",
    "}\n",
    "\n",
    "plt.yticks([0,1],[\"false\",\"true\"])\n",
    "\n",
    "for key, description in feature_dict.items(): \n",
    "    plt.scatter(x[:,key],y, color=description[1], label=description[0])\n",
    "\n",
    "\n",
    "plt.legend(loc=4, prop={\"size\": 8})\n",
    "plt.show()\n",
    "\n"
   ]
  },
  {
   "cell_type": "markdown",
   "id": "b7d2cdf9",
   "metadata": {},
   "source": [
    "And now predict the given data: (4.8,2.5,5.3,2.4)"
   ]
  },
  {
   "cell_type": "code",
   "execution_count": 51,
   "id": "f11d682b",
   "metadata": {},
   "outputs": [
    {
     "data": {
      "text/plain": [
       "LogisticRegression()"
      ]
     },
     "execution_count": 51,
     "metadata": {},
     "output_type": "execute_result"
    }
   ],
   "source": [
    "log_reg = LogisticRegression()\n",
    "log_reg.fit(x,y)"
   ]
  },
  {
   "cell_type": "code",
   "execution_count": 52,
   "id": "4166529b",
   "metadata": {},
   "outputs": [
    {
     "data": {
      "text/plain": [
       "array([1])"
      ]
     },
     "execution_count": 52,
     "metadata": {},
     "output_type": "execute_result"
    }
   ],
   "source": [
    "measured = np.array([4.8,2.5,5.3,2.4])\n",
    "prediction = log_reg.predict(measured.reshape(1, -1)) #reshape because its only one sample\n",
    "prediction"
   ]
  },
  {
   "cell_type": "markdown",
   "id": "a1482120",
   "metadata": {},
   "source": [
    "The result is **1** which means: the iris we found on our hiking trip is probably really an iris virginica!"
   ]
  },
  {
   "cell_type": "code",
   "execution_count": null,
   "id": "e0cb5235",
   "metadata": {},
   "outputs": [],
   "source": []
  }
 ],
 "metadata": {
  "kernelspec": {
   "display_name": "Python 3",
   "language": "python",
   "name": "python3"
  },
  "language_info": {
   "codemirror_mode": {
    "name": "ipython",
    "version": 3
   },
   "file_extension": ".py",
   "mimetype": "text/x-python",
   "name": "python",
   "nbconvert_exporter": "python",
   "pygments_lexer": "ipython3",
   "version": "3.8.0"
  }
 },
 "nbformat": 4,
 "nbformat_minor": 5
}
