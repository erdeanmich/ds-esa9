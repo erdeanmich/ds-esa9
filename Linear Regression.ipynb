{
 "cells": [
  {
   "cell_type": "markdown",
   "id": "7009f254",
   "metadata": {},
   "source": [
    "# Linear Regression Exercise \n",
    "\n",
    "_Make up your own personal dataset and predict the regression curve._ \n",
    "\n",
    "## The example: People that play videogames and their sleeptime \n",
    "\n",
    "\n",
    "| **Person** | 1 | 2 | 3 | 4 | 5 | 6 | 7 | 8 | 9 | 10 |\n",
    "| :- | - | - | - | - | - | - | - | - | - | - |\n",
    "| **Videogame playtime per day in minutes** | 0 | 10 | 32 | 44 | 66 | 78 | 93 | 99 | 123 | 168 \n",
    "| **Sleeptime of that day in minutes** | 480 | 464 | 450 | 444 | 400 | 398 | 388 | 377 | 346 | 299\n",
    "\n"
   ]
  },
  {
   "cell_type": "code",
   "execution_count": 75,
   "id": "eb358a73",
   "metadata": {},
   "outputs": [],
   "source": [
    "import numpy as np \n",
    "import matplotlib.pyplot as plt"
   ]
  },
  {
   "cell_type": "code",
   "execution_count": 76,
   "id": "21967f55",
   "metadata": {},
   "outputs": [
    {
     "data": {
      "text/plain": [
       "array([[  1.,   0., 480.],\n",
       "       [  2.,  10., 464.],\n",
       "       [  3.,  32., 450.],\n",
       "       [  4.,  44., 444.],\n",
       "       [  5.,  66., 400.],\n",
       "       [  6.,  78., 398.],\n",
       "       [  7.,  93., 388.],\n",
       "       [  8.,  99., 377.],\n",
       "       [  9., 123., 346.],\n",
       "       [ 10., 168., 299.]])"
      ]
     },
     "execution_count": 76,
     "metadata": {},
     "output_type": "execute_result"
    }
   ],
   "source": [
    "data = np.genfromtxt(\"data/videogames.csv\", delimiter=\",\", skip_header=1)\n",
    "data\n"
   ]
  },
  {
   "cell_type": "markdown",
   "id": "522cd1d1",
   "metadata": {},
   "source": [
    "Let's have a look how are data is distributed."
   ]
  },
  {
   "cell_type": "code",
   "execution_count": 77,
   "id": "417c5d08",
   "metadata": {
    "scrolled": true
   },
   "outputs": [
    {
     "data": {
      "image/png": "[encoded data removed]",
      "text/plain": [
       "<Figure size 432x288 with 1 Axes>"
      ]
     },
     "metadata": {
      "needs_background": "light"
     },
     "output_type": "display_data"
    }
   ],
   "source": [
    "vg_time = data[:,1]\n",
    "sleeptime = data[:,2]\n",
    "plt.scatter(vg_time, sleeptime)\n",
    "plt.ylim(ymin=0)\n",
    "plt.show()"
   ]
  },
  {
   "cell_type": "markdown",
   "id": "df119103",
   "metadata": {},
   "source": [
    "We will calculate our theta values (= regression weights)"
   ]
  },
  {
   "cell_type": "code",
   "execution_count": 78,
   "id": "95320120",
   "metadata": {
    "scrolled": true
   },
   "outputs": [
    {
     "data": {
      "text/plain": [
       "array([481.1360086 ,  -1.07343631])"
      ]
     },
     "execution_count": 78,
     "metadata": {},
     "output_type": "execute_result"
    }
   ],
   "source": [
    "vg_time_b = np.c_[np.ones((10,1)), vg_time]\n",
    "theta_best = np.linalg.inv(vg_time_b.T.dot(vg_time_b)).dot( vg_time_b.T).dot(sleeptime)\n",
    "theta_best"
   ]
  },
  {
   "cell_type": "markdown",
   "id": "faca60eb",
   "metadata": {},
   "source": [
    "Let's predict the sleeptime."
   ]
  },
  {
   "cell_type": "code",
   "execution_count": 79,
   "id": "26b143ad",
   "metadata": {},
   "outputs": [],
   "source": [
    "max_vg_time = data[:,1].astype(int).max()"
   ]
  },
  {
   "cell_type": "code",
   "execution_count": 80,
   "id": "3e608163",
   "metadata": {
    "scrolled": true
   },
   "outputs": [
    {
     "data": {
      "text/plain": [
       "array([481.1360086 , 300.79870923])"
      ]
     },
     "execution_count": 80,
     "metadata": {},
     "output_type": "execute_result"
    }
   ],
   "source": [
    "vg_time_new = np.array([[0], [max_vg_time]])\n",
    "vg_time_new_b = np.c_[np.ones((2,1)), vg_time_new]\n",
    "sleeptime_predict = vg_time_new_b.dot(theta_best)\n",
    "sleeptime_predict"
   ]
  },
  {
   "cell_type": "markdown",
   "id": "3300d6dd",
   "metadata": {},
   "source": [
    "Visualize the regression! "
   ]
  },
  {
   "cell_type": "code",
   "execution_count": 81,
   "id": "ae589204",
   "metadata": {
    "scrolled": false
   },
   "outputs": [
    {
     "data": {
      "image/png": "[encoded data removed]",
      "text/plain": [
       "<Figure size 432x288 with 1 Axes>"
      ]
     },
     "metadata": {
      "needs_background": "light"
     },
     "output_type": "display_data"
    }
   ],
   "source": [
    "plt.plot(vg_time_new,sleeptime_predict, \"r-\")\n",
    "plt.plot(vg_time,sleeptime, \"b.\")\n",
    "plt.show()"
   ]
  },
  {
   "cell_type": "code",
   "execution_count": null,
   "id": "0746aa7b",
   "metadata": {},
   "outputs": [],
   "source": []
  }
 ],
 "metadata": {
  "kernelspec": {
   "display_name": "Python 3",
   "language": "python",
   "name": "python3"
  },
  "language_info": {
   "codemirror_mode": {
    "name": "ipython",
    "version": 3
   },
   "file_extension": ".py",
   "mimetype": "text/x-python",
   "name": "python",
   "nbconvert_exporter": "python",
   "pygments_lexer": "ipython3",
   "version": "3.8.0"
  }
 },
 "nbformat": 4,
 "nbformat_minor": 5
}
